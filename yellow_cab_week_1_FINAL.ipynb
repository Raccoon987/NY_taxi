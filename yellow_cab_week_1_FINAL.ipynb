{
 "cells": [
  {
   "cell_type": "code",
   "execution_count": 1,
   "metadata": {},
   "outputs": [],
   "source": [
    "%pylab inline\n",
    "import pandas as pd\n",
    "import matplotlib.pyplot as plt\n",
    "import numpy as np\n",
    "import timeit\n",
    "from scipy import stats\n",
    "import seaborn\n",
    "from IPython.display import Image"
   ]
  },
  {
   "cell_type": "markdown",
   "metadata": {},
   "source": [
    "#### taxi data was downloaded from\n",
    "www.nyc.gov/html/tlc/html/about/trip_record_data.shtml"
   ]
  },
  {
   "cell_type": "code",
   "execution_count": 2,
   "metadata": {
    "collapsed": true
   },
   "outputs": [],
   "source": [
    "taxi_may_16 = pd.read_csv(\"./data/yellow_tripdata_2016-05.csv\")"
   ]
  },
  {
   "cell_type": "code",
   "execution_count": 3,
   "metadata": {},
   "outputs": [],
   "source": [
    "print(taxi_may_16.shape)"
   ]
  },
  {
   "cell_type": "code",
   "execution_count": 4,
   "metadata": {},
   "outputs": [],
   "source": [
    "taxi_may_16.head()"
   ]
  },
  {
   "cell_type": "code",
   "execution_count": 5,
   "metadata": {
    "scrolled": true
   },
   "outputs": [],
   "source": [
    "taxi_may_16.info()"
   ]
  },
  {
   "cell_type": "code",
   "execution_count": 6,
   "metadata": {},
   "outputs": [],
   "source": [
    "taxi_may_16.isnull().values.any()"
   ]
  },
  {
   "cell_type": "code",
   "execution_count": 7,
   "metadata": {},
   "outputs": [],
   "source": [
    "taxi_may_16.describe()"
   ]
  },
  {
   "cell_type": "code",
   "execution_count": 6,
   "metadata": {},
   "outputs": [],
   "source": [
    "print(type(taxi_may_16.iloc[0].tpep_dropoff_datetime))"
   ]
  },
  {
   "cell_type": "markdown",
   "metadata": {},
   "source": [
    "##### trips with zero duration, distance and without passenger will be ignored "
   ]
  },
  {
   "cell_type": "code",
   "execution_count": 9,
   "metadata": {},
   "outputs": [],
   "source": [
    "print(taxi_may_16[taxi_may_16.passenger_count == 0].shape)\n",
    "print(taxi_may_16[taxi_may_16.trip_distance == 0].shape)\n",
    "print(taxi_may_16[taxi_may_16.tpep_pickup_datetime == taxi_may_16.tpep_dropoff_datetime].shape)"
   ]
  },
  {
   "cell_type": "markdown",
   "metadata": {},
   "source": [
    "##### New York city boundaries: [-74.25559, -73.70001] longitude degrees and [40.49612, 40.91553] latitude degrees. Leave only trips that start within this boundaries"
   ]
  },
  {
   "cell_type": "code",
   "execution_count": 4,
   "metadata": {},
   "outputs": [],
   "source": [
    "print(taxi_may_16[(-74.25559 <= taxi_may_16.pickup_longitude) & (taxi_may_16.pickup_longitude <= -73.70001 ) \n",
    "                   & (40.49612 <= taxi_may_16.pickup_latitude) & (taxi_may_16.pickup_latitude <= 40.91553)].shape)"
   ]
  },
  {
   "cell_type": "code",
   "execution_count": 4,
   "metadata": {
    "collapsed": true
   },
   "outputs": [],
   "source": [
    "taxi_may_16.drop(taxi_may_16[taxi_may_16.passenger_count == 0].index, inplace=True)\n",
    "taxi_may_16.drop(taxi_may_16[taxi_may_16.trip_distance == 0].index, inplace=True)\n",
    "taxi_may_16.drop(taxi_may_16[taxi_may_16.tpep_pickup_datetime == taxi_may_16.tpep_dropoff_datetime].index, inplace=True)"
   ]
  },
  {
   "cell_type": "code",
   "execution_count": 7,
   "metadata": {},
   "outputs": [],
   "source": [
    "taxi_may_16.shape"
   ]
  },
  {
   "cell_type": "code",
   "execution_count": 8,
   "metadata": {
    "collapsed": true
   },
   "outputs": [],
   "source": [
    "taxi_may_16.drop(taxi_may_16[taxi_may_16.pickup_longitude < -74.25559].index, inplace=True)\n",
    "taxi_may_16.drop(taxi_may_16[taxi_may_16.pickup_longitude > -73.70001].index, inplace=True)\n",
    "taxi_may_16.drop(taxi_may_16[taxi_may_16.pickup_latitude < 40.49612].index, inplace=True)\n",
    "taxi_may_16.drop(taxi_may_16[taxi_may_16.pickup_latitude > 40.91553].index, inplace=True)"
   ]
  },
  {
   "cell_type": "code",
   "execution_count": 12,
   "metadata": {},
   "outputs": [],
   "source": [
    "taxi_may_16.shape"
   ]
  },
  {
   "cell_type": "code",
   "execution_count": 77,
   "metadata": {
    "collapsed": true
   },
   "outputs": [],
   "source": [
    "regions = pd.read_csv(\"./data/regions.csv\", delimiter=\";\")"
   ]
  },
  {
   "cell_type": "code",
   "execution_count": 14,
   "metadata": {},
   "outputs": [],
   "source": [
    "regions.head()"
   ]
  },
  {
   "cell_type": "code",
   "execution_count": 15,
   "metadata": {},
   "outputs": [],
   "source": [
    "regions.shape"
   ]
  },
  {
   "cell_type": "code",
   "execution_count": 18,
   "metadata": {},
   "outputs": [],
   "source": [
    "print(type(regions.iloc[0].west), type(taxi_may_16.iloc[0].pickup_latitude))"
   ]
  },
  {
   "cell_type": "code",
   "execution_count": null,
   "metadata": {
    "collapsed": true
   },
   "outputs": [],
   "source": []
  },
  {
   "cell_type": "markdown",
   "metadata": {},
   "source": [
    "##### lets cover the city with a rectangular grid - (50x50) - 2500 cells-regions. Each trip will be assigned the one region number, based on the geographical coordinates of its start position"
   ]
  },
  {
   "cell_type": "markdown",
   "metadata": {},
   "source": [
    "##### too slow variant"
   ]
  },
  {
   "cell_type": "code",
   "execution_count": 42,
   "metadata": {},
   "outputs": [],
   "source": [
    "latt = taxi_may_16.iloc[0].pickup_latitude\n",
    "longi = taxi_may_16.iloc[0].pickup_longitude\n",
    "reg = regions[(regions.west <= longi) & (longi < regions.east) & (regions.south <= latt) & (latt < regions.north)].region.values\n",
    "print reg"
   ]
  },
  {
   "cell_type": "code",
   "execution_count": 70,
   "metadata": {
    "collapsed": true
   },
   "outputs": [],
   "source": [
    "def check_region(taxi_data, regions):\n",
    "    return regions[(regions.west <= taxi_data.pickup_longitude) & (taxi_data.pickup_longitude < regions.east) & \n",
    "                   (regions.south <= taxi_data.pickup_latitude) & (taxi_data.pickup_latitude < regions.north)].region.values[0]\n",
    "\n",
    "result = [check_region(taxi_may_16.iloc[i], regions) for i in range(2000)]"
   ]
  },
  {
   "cell_type": "code",
   "execution_count": 15,
   "metadata": {
    "collapsed": true
   },
   "outputs": [],
   "source": [
    "#region = taxi_may_16.loc[:3000000].apply(lambda x: regions[(regions.west <= x.pickup_longitude) & \n",
    "#                                                            (x.pickup_longitude < regions.east) & \n",
    "#                                                            (regions.south <= x.pickup_latitude) & \n",
    "#                                                            (x.pickup_latitude < regions.north)].region.values[0], axis=1)\n",
    "#taxi_may_16[\"region\"] = region"
   ]
  },
  {
   "cell_type": "markdown",
   "metadata": {},
   "source": [
    "#### much faster"
   ]
  },
  {
   "cell_type": "code",
   "execution_count": 20,
   "metadata": {
    "collapsed": true
   },
   "outputs": [],
   "source": [
    "NY_long_west = -74.25559\n",
    "NY_long_east = -73.70001\n",
    "NY_latt_south = 40.49612\n",
    "NY_latt_north = 40.91553"
   ]
  },
  {
   "cell_type": "code",
   "execution_count": 18,
   "metadata": {
    "collapsed": true
   },
   "outputs": [],
   "source": [
    "def region_counter(longitude, latitude):\n",
    "    long_num = np.ceil((longitude - NY_long_west)*50.0 / (NY_long_east - NY_long_west))\n",
    "    lat_num = np.ceil((latitude - NY_latt_south)*50.0 / (NY_latt_north - NY_latt_south))\n",
    "    \n",
    "    return (long_num - 1) * 50.0 + lat_num"
   ]
  },
  {
   "cell_type": "code",
   "execution_count": 98,
   "metadata": {},
   "outputs": [],
   "source": [
    "print(region_counter(-74.255585, 40.496125))"
   ]
  },
  {
   "cell_type": "code",
   "execution_count": 29,
   "metadata": {},
   "outputs": [],
   "source": [
    "%%time\n",
    "s = region_counter(taxi_may_16.pickup_longitude, taxi_may_16.pickup_latitude)"
   ]
  },
  {
   "cell_type": "code",
   "execution_count": 30,
   "metadata": {
    "collapsed": true
   },
   "outputs": [],
   "source": [
    "taxi_may_16[\"region\"] = s"
   ]
  },
  {
   "cell_type": "code",
   "execution_count": 31,
   "metadata": {},
   "outputs": [],
   "source": [
    "taxi_may_16.head()"
   ]
  },
  {
   "cell_type": "code",
   "execution_count": 68,
   "metadata": {},
   "outputs": [],
   "source": [
    "taxi_may_16.shape"
   ]
  },
  {
   "cell_type": "code",
   "execution_count": null,
   "metadata": {
    "collapsed": true
   },
   "outputs": [],
   "source": []
  },
  {
   "cell_type": "markdown",
   "metadata": {},
   "source": [
    "##### round hours - discard minutes and seconds"
   ]
  },
  {
   "cell_type": "code",
   "execution_count": 69,
   "metadata": {
    "collapsed": true
   },
   "outputs": [],
   "source": [
    "taxi_may_16[\"hour_statistic\"] = pd.DatetimeIndex(taxi_may_16.tpep_pickup_datetime).map(lambda x: x.replace(minute=0, second=0))"
   ]
  },
  {
   "cell_type": "code",
   "execution_count": 70,
   "metadata": {},
   "outputs": [],
   "source": [
    "taxi_may_16.shape"
   ]
  },
  {
   "cell_type": "code",
   "execution_count": 71,
   "metadata": {},
   "outputs": [],
   "source": [
    "taxi_may_16.head()"
   ]
  },
  {
   "cell_type": "code",
   "execution_count": 73,
   "metadata": {},
   "outputs": [],
   "source": [
    "taxi_may_16.loc[1000].hour_statistic"
   ]
  },
  {
   "cell_type": "code",
   "execution_count": 108,
   "metadata": {},
   "outputs": [],
   "source": [
    "taxi_may_16.columns"
   ]
  },
  {
   "cell_type": "code",
   "execution_count": 114,
   "metadata": {
    "collapsed": true
   },
   "outputs": [],
   "source": [
    "taxi_may_16.to_csv(\"./data/edit_yellow_taxi_may_2016.csv\", sep='\\t', columns=[\"VendorID\", \"tpep_pickup_datetime\", \"tpep_dropoff_datetime\", \"passenger_count\",\n",
    "                                                 \"trip_distance\", \"pickup_longitude\", \"pickup_latitude\", \"RatecodeID\" ,\n",
    "                                                 \"store_and_fwd_flag\", \"dropoff_longitude\", 'dropoff_latitude', 'payment_type',\n",
    "                                                 'fare_amount', 'extra', 'mta_tax', 'tip_amount', 'tolls_amount',\n",
    "                                                 'improvement_surcharge', 'total_amount', 'region', 'hour_statistic'])"
   ]
  },
  {
   "cell_type": "code",
   "execution_count": null,
   "metadata": {
    "collapsed": true
   },
   "outputs": [],
   "source": []
  },
  {
   "cell_type": "markdown",
   "metadata": {},
   "source": [
    "##### make 2d statistics"
   ]
  },
  {
   "cell_type": "code",
   "execution_count": 2,
   "metadata": {
    "collapsed": true
   },
   "outputs": [],
   "source": [
    "#taxi_may_16_edit = pd.read_csv(\"./data/edit_yellow_taxi_may_2016.csv\", sep='\\t')\n",
    "taxi_may_16_edit = pd.read_csv(\"./data/edit_yellow_taxi_may_2016.csv\", sep='\\t', usecols=[\"VendorID\", \"tpep_pickup_datetime\", \n",
    "                            \"tpep_dropoff_datetime\", \"passenger_count\", \"pickup_longitude\", \"pickup_latitude\", \"region\", \n",
    "                                                                                   \"hour_statistic\"])"
   ]
  },
  {
   "cell_type": "code",
   "execution_count": 3,
   "metadata": {},
   "outputs": [],
   "source": [
    "taxi_may_16_edit.shape"
   ]
  },
  {
   "cell_type": "code",
   "execution_count": 4,
   "metadata": {
    "collapsed": true
   },
   "outputs": [],
   "source": [
    "taxi_may_16_edit.hour_statistic = pd.DatetimeIndex(taxi_may_16_edit.hour_statistic)"
   ]
  },
  {
   "cell_type": "code",
   "execution_count": 5,
   "metadata": {},
   "outputs": [],
   "source": [
    "taxi_may_16_edit.head()"
   ]
  },
  {
   "cell_type": "code",
   "execution_count": 6,
   "metadata": {},
   "outputs": [],
   "source": [
    "taxi_may_16_edit[-5:]"
   ]
  },
  {
   "cell_type": "code",
   "execution_count": 7,
   "metadata": {},
   "outputs": [],
   "source": [
    "taxi_may_16_edit.info()"
   ]
  },
  {
   "cell_type": "code",
   "execution_count": 8,
   "metadata": {},
   "outputs": [],
   "source": [
    "taxi_may_16_edit.hour_statistic[0].value"
   ]
  },
  {
   "cell_type": "code",
   "execution_count": 12,
   "metadata": {},
   "outputs": [],
   "source": [
    "print(\"amount of unique regions in May month: \", np.unique(taxi_may_16_edit.region).shape[0])"
   ]
  },
  {
   "cell_type": "code",
   "execution_count": 7,
   "metadata": {},
   "outputs": [],
   "source": [
    "time_bins = np.sort(np.unique(taxi_may_16_edit.hour_statistic)).astype(np.int64)\n",
    "time_bins.shape # 31 day * 24 hour"
   ]
  },
  {
   "cell_type": "markdown",
   "metadata": {},
   "source": [
    "##### add last 00:00 hours of may 31 2016"
   ]
  },
  {
   "cell_type": "code",
   "execution_count": 6,
   "metadata": {
    "collapsed": true
   },
   "outputs": [],
   "source": [
    "time_bins = np.hstack((time_bins, time_bins[-1] + 3600000000000))"
   ]
  },
  {
   "cell_type": "markdown",
   "metadata": {},
   "source": [
    "##### started trips and passenger amount statistics"
   ]
  },
  {
   "cell_type": "code",
   "execution_count": 8,
   "metadata": {},
   "outputs": [],
   "source": [
    "region_bined_stat = stats.binned_statistic_2d(taxi_may_16_edit.region, taxi_may_16_edit.hour_statistic.astype(np.int64), \n",
    "                                            \"None\", 'count', bins=[np.arange(1, 2502), time_bins])\n",
    "print(region_bined_stat.statistic.shape)\n",
    "passanger_bined_stat = stats.binned_statistic_2d(taxi_may_16_edit.region, taxi_may_16_edit.hour_statistic.astype(np.int64), \n",
    "                                            taxi_may_16_edit.passenger_count, 'sum', bins=[np.arange(1, 2502), time_bins])"
   ]
  },
  {
   "cell_type": "code",
   "execution_count": 26,
   "metadata": {},
   "outputs": [],
   "source": [
    "taxi_may_16_edit[\"day_hours\"] = taxi_may_16_edit[\"hour_statistic\"].apply(lambda x: x.hour)\n",
    "taxi_may_16_edit.head()"
   ]
  },
  {
   "cell_type": "code",
   "execution_count": 14,
   "metadata": {},
   "outputs": [],
   "source": [
    "hour_bins = np.hstack((np.sort(np.unique(taxi_may_16_edit.day_hours)), 24))\n",
    "print(hour_bins)"
   ]
  },
  {
   "cell_type": "markdown",
   "metadata": {},
   "source": [
    "##### leave only hours without minutes and seconds and calculate started trips statistics"
   ]
  },
  {
   "cell_type": "code",
   "execution_count": 12,
   "metadata": {
    "collapsed": true
   },
   "outputs": [],
   "source": [
    "reg_hour_stat = stats.binned_statistic_2d(taxi_may_16_edit.region, taxi_may_16_edit.day_hours, \n",
    "                                            \"None\", 'count', bins=[np.arange(1, 2502), hour_bins])\n",
    "with open('region_bined_stat.pkl', 'wb') as f:\n",
    "    pickle.dump(region_bined_stat.statistic, f)"
   ]
  },
  {
   "cell_type": "markdown",
   "metadata": {
    "collapsed": true
   },
   "source": [
    "##### plot calculated statistics result in unchanged scale and cube root scale"
   ]
  },
  {
   "cell_type": "code",
   "execution_count": 36,
   "metadata": {},
   "outputs": [],
   "source": [
    "plt.figure(figsize=(20, 20))\n",
    "seaborn.heatmap(region_bined_stat.statistic, cmap='coolwarm')\n",
    "plt.legend(\"hour-NY region taxi counter\")\n",
    "plt.xlabel('hours in May 2016', fontsize=24)\n",
    "plt.ylabel('NY regions', fontsize=24)"
   ]
  },
  {
   "cell_type": "code",
   "execution_count": 89,
   "metadata": {},
   "outputs": [],
   "source": [
    "plt.figure(figsize=(20, 20))\n",
    "seaborn.heatmap(np.cbrt(region_bined_stat.statistic), cmap='coolwarm')\n",
    "plt.legend(\"hour-NY region taxi counter\")\n",
    "plt.xlabel('hours in May 2016', fontsize=24)\n",
    "plt.ylabel('NY regions', fontsize=24)"
   ]
  },
  {
   "cell_type": "markdown",
   "metadata": {},
   "source": [
    "##### passenger statistics"
   ]
  },
  {
   "cell_type": "code",
   "execution_count": 12,
   "metadata": {},
   "outputs": [],
   "source": [
    "plt.figure(figsize=(20, 20))\n",
    "seaborn.heatmap(passanger_bined_stat.statistic, cmap='coolwarm')\n",
    "plt.legend(\"hour-NY region taxi counter\")\n",
    "plt.xlabel('hours in May 2016', fontsize=24)\n",
    "plt.ylabel('NY regions', fontsize=24)"
   ]
  },
  {
   "cell_type": "code",
   "execution_count": null,
   "metadata": {
    "collapsed": true
   },
   "outputs": [],
   "source": []
  },
  {
   "cell_type": "markdown",
   "metadata": {
    "collapsed": true
   },
   "source": [
    "##### cumulative daily statistics for the May month in the unchanged and log scale"
   ]
  },
  {
   "cell_type": "code",
   "execution_count": 14,
   "metadata": {},
   "outputs": [],
   "source": [
    "plt.figure(figsize=(20, 20))\n",
    "seaborn.heatmap(reg_hour_stat.statistic, cmap='coolwarm')\n",
    "plt.legend(\"24 hour region taxi counter\", prop={'size': 6})\n",
    "plt.xlabel('hours in May 2016', fontsize=24)\n",
    "plt.ylabel('NY regions', fontsize=24)"
   ]
  },
  {
   "cell_type": "code",
   "execution_count": 88,
   "metadata": {},
   "outputs": [],
   "source": [
    "plt.figure(figsize=(20, 20))\n",
    "seaborn.heatmap(np.cbrt(reg_hour_stat.statistic), cmap='coolwarm')\n",
    "plt.legend(\"24 hour region taxi counter\", prop={'size': 6})\n",
    "plt.xlabel('hours in May 2016', fontsize=24)\n",
    "plt.ylabel('NY regions', fontsize=24)"
   ]
  },
  {
   "cell_type": "markdown",
   "metadata": {},
   "source": [
    "##### cumulative map show region v.s. total amount of trips dependence. cubic root was applied to reduce the result spread"
   ]
  },
  {
   "cell_type": "code",
   "execution_count": 74,
   "metadata": {},
   "outputs": [],
   "source": [
    "plt.figure(figsize=(20, 20))\n",
    "seaborn.heatmap(np.cbrt(np.rot90(np.reshape(reg_hour_stat.statistic.sum(axis=1), (-1, 50)))), cmap='coolwarm')"
   ]
  },
  {
   "cell_type": "code",
   "execution_count": 42,
   "metadata": {},
   "outputs": [],
   "source": [
    "''' http://www.mapdevelopers.com/geocode_bounding_box.php '''\n",
    "Image(\"./data/new york.png\")"
   ]
  },
  {
   "cell_type": "code",
   "execution_count": null,
   "metadata": {
    "collapsed": true
   },
   "outputs": [],
   "source": []
  },
  {
   "cell_type": "markdown",
   "metadata": {},
   "source": [
    "##### several central regions heatmap for 1-st May 2016"
   ]
  },
  {
   "cell_type": "code",
   "execution_count": 65,
   "metadata": {},
   "outputs": [],
   "source": [
    "plt.figure(figsize=(24,10))\n",
    "seaborn.heatmap(region_bined_stat.statistic[1225:1235, :24], annot=True, cmap='coolwarm')\n",
    "plt.legend(\"hour-NY region taxi counter\")\n",
    "plt.xlabel('hours in May 2016', fontsize=24)\n",
    "plt.ylabel('NY regions', fontsize=24)"
   ]
  },
  {
   "cell_type": "markdown",
   "metadata": {},
   "source": [
    "##### Empire State Building 40.748441В° N,   -73.985664В° W"
   ]
  },
  {
   "cell_type": "code",
   "execution_count": 78,
   "metadata": {},
   "outputs": [],
   "source": [
    "print(\"Empire State building region: \", regions[(regions.west <= -73.985664) & (-73.985664 < regions.east) & \n",
    "                                                (regions.south <= 40.748441) & (40.748441 < regions.north)].region.values)"
   ]
  },
  {
   "cell_type": "code",
   "execution_count": 79,
   "metadata": {
    "collapsed": true
   },
   "outputs": [],
   "source": [
    "ESB_reg = 1231"
   ]
  },
  {
   "cell_type": "markdown",
   "metadata": {
    "collapsed": true
   },
   "source": [
    "##### amount_of_trips = f(t) dependence from region that contains Empire State Building"
   ]
  },
  {
   "cell_type": "code",
   "execution_count": 82,
   "metadata": {},
   "outputs": [],
   "source": [
    "plt.figure(figsize=(15,6))\n",
    "plt.plot(np.arange(744), region_bined_stat.statistic[ESB_reg-1,:])\n",
    "plt.plot(np.arange(744), region_bined_stat.statistic[ESB_reg-1,:])\n",
    "plt.xlim([0,745])\n",
    "plt.ylabel(\"amount of trips\")\n",
    "plt.xlabel(\"hour\")\n",
    "plt.title(\"Empire State Building region\");"
   ]
  },
  {
   "cell_type": "markdown",
   "metadata": {},
   "source": [
    "##### number of cells with zero amount of trips"
   ]
  },
  {
   "cell_type": "code",
   "execution_count": 87,
   "metadata": {},
   "outputs": [],
   "source": [
    "print(\"all regions: \", np.prod(region_bined_stat.statistic.shape))\n",
    "print(\"zero regions: \", np.prod(region_bined_stat.statistic.shape) - np.count_nonzero(region_bined_stat.statistic))"
   ]
  },
  {
   "cell_type": "code",
   "execution_count": 13,
   "metadata": {
    "collapsed": true
   },
   "outputs": [],
   "source": [
    "#del bined_statistic\n",
    "del taxi_may_16_edit"
   ]
  }
 ],
 "metadata": {
  "kernelspec": {
   "display_name": "Python 3",
   "language": "python",
   "name": "python3"
  },
  "language_info": {
   "codemirror_mode": {
    "name": "ipython",
    "version": 3
   },
   "file_extension": ".py",
   "mimetype": "text/x-python",
   "name": "python",
   "nbconvert_exporter": "python",
   "pygments_lexer": "ipython3",
   "version": "3.5.4"
  }
 },
 "nbformat": 4,
 "nbformat_minor": 1
}

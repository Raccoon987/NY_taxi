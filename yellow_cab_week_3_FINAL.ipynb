{
 "cells": [
  {
   "cell_type": "code",
   "execution_count": null,
   "metadata": {
    "collapsed": true
   },
   "outputs": [],
   "source": [
    "%pylab inline\n",
    "import pandas as pd\n",
    "from scipy import stats\n",
    "import statsmodels.api as sm\n",
    "import matplotlib.pyplot as plt\n",
    "from os import listdir\n",
    "from os.path import isfile, join\n",
    "import pickle\n",
    "import itertools\n",
    "import statsmodels.formula.api as smf\n",
    "import statsmodels.tsa.stattools\n",
    "\n",
    "import warnings\n",
    "from itertools import product\n",
    "\n",
    "warnings.filterwarnings('ignore')"
   ]
  },
  {
   "cell_type": "code",
   "execution_count": null,
   "metadata": {
    "collapsed": true
   },
   "outputs": [],
   "source": [
    "import statsmodels\n",
    "statsmodels.__version__"
   ]
  },
  {
   "cell_type": "code",
   "execution_count": null,
   "metadata": {
    "collapsed": true
   },
   "outputs": [],
   "source": [
    "def invboxcox(y,lmbda):\n",
    "    if lmbda == 0:\n",
    "        return(np.exp(y))\n",
    "    else:\n",
    "        return(np.exp(np.log(lmbda*y+1)/lmbda))"
   ]
  },
  {
   "cell_type": "markdown",
   "metadata": {},
   "source": [
    "##### since the task of the third week does not contain any details - lets take half year time period - from january till june 2015 and region №1231 which contains Empire State building. This region is popular popular place."
   ]
  },
  {
   "cell_type": "code",
   "execution_count": null,
   "metadata": {
    "collapsed": true
   },
   "outputs": [],
   "source": [
    "mypath = \"H:/Yandex machine learning/finall course coursera/csv_yellow_cab_2015/reg_bin_stat/\"\n",
    "onlyfiles = [f for f in listdir(mypath) if isfile(join(mypath, f))]\n",
    "\n",
    "print(onlyfiles)"
   ]
  },
  {
   "cell_type": "code",
   "execution_count": null,
   "metadata": {
    "collapsed": true
   },
   "outputs": [],
   "source": [
    "ESB_reg = 1231\n",
    "month = []"
   ]
  },
  {
   "cell_type": "code",
   "execution_count": null,
   "metadata": {
    "collapsed": true
   },
   "outputs": [],
   "source": [
    "for file in onlyfiles[1:] + [onlyfiles[0]]:\n",
    "    with open(mypath + file, \"rb\") as f:\n",
    "        region_bined_stat = pickle.load(f)\n",
    "        month.append(region_bined_stat[ESB_reg-1, :])\n",
    "\n",
    "for i in month:\n",
    "    print(len(i), end=\" \")"
   ]
  },
  {
   "cell_type": "code",
   "execution_count": null,
   "metadata": {
    "collapsed": true
   },
   "outputs": [],
   "source": [
    "month_join = list(itertools.chain.from_iterable(month))\n",
    "time = pd.date_range('2015 Jan 1 00:00:00', periods = len(month_join), freq = 'h')\n",
    "taxi_data = pd.DataFrame({\"taxi_call_num\" : month_join}, index = [time])\n",
    "\n",
    "taxi_data.head()"
   ]
  },
  {
   "cell_type": "code",
   "execution_count": null,
   "metadata": {
    "collapsed": true
   },
   "outputs": [],
   "source": [
    "print(taxi_data.index.values.shape)\n",
    "print(taxi_data.taxi_call_num.values.shape)"
   ]
  },
  {
   "cell_type": "code",
   "execution_count": null,
   "metadata": {
    "collapsed": true
   },
   "outputs": [],
   "source": [
    "fig, axes = plt.subplots(figsize = (80, 8))\n",
    "axes.title.set_size(40)\n",
    "taxi_data.plot(color=\"green\", title=\"timeserie\", fontsize=25, ax = axes)\n",
    "frequency = 24\n",
    "plt.xticks(time[::24])\n",
    "plt.grid()\n",
    "\n",
    "#double click on image makes it larger"
   ]
  },
  {
   "cell_type": "code",
   "execution_count": null,
   "metadata": {
    "collapsed": true
   },
   "outputs": [],
   "source": [
    "#num of hours in each month\n",
    "month_len = np.array([0, 744, 672, 744, 720, 744, 720])\n",
    "\n",
    "for i, c in enumerate([\"January\", \"February\", \"March\"]):\n",
    "    taxi_data[int(sum(month_len[:i+1])) : int(sum(month_len[:i+2]))].plot(figsize=(20, 5), title=c, color=\"green\", fontsize=16, grid=True)"
   ]
  },
  {
   "cell_type": "markdown",
   "metadata": {},
   "source": [
    "##### 26-27 january 2015 - ice storm https://www.nytimes.com/2015/01/27/nyregion/new-york-blizzard.html 8 march - narrow dip may be connected with demonstration http://www.chicagotribune.com/news/nationworld/chi-new-york-city-marks-international-womens-day-with-march-20150308-story.html , or may be just a artifact"
   ]
  },
  {
   "cell_type": "markdown",
   "metadata": {},
   "source": [
    "##### Dickey-Fuller stationarity test + time-serie STL-decomposition:"
   ]
  },
  {
   "cell_type": "code",
   "execution_count": null,
   "metadata": {
    "collapsed": true
   },
   "outputs": [],
   "source": [
    "plt.figure(figsize(60,10))\n",
    "sm.tsa.seasonal_decompose(taxi_data.taxi_call_num).plot()\n",
    "print(\"Dickey-Fuller stationarity test: p=%f\" % sm.tsa.stattools.adfuller(taxi_data.taxi_call_num)[1])\n",
    "\n",
    "#double click on image makes it larger"
   ]
  },
  {
   "cell_type": "markdown",
   "metadata": {},
   "source": [
    "##### half year time serie seems to be non-dispersive but it has distinctly visible monthly seasonality. Рypothesis of nonstationarity is rejected with the Dickey-Fuller criterion."
   ]
  },
  {
   "cell_type": "markdown",
   "metadata": {},
   "source": [
    "##### plot the same for january month"
   ]
  },
  {
   "cell_type": "code",
   "execution_count": null,
   "metadata": {
    "collapsed": true
   },
   "outputs": [],
   "source": [
    "plt.figure(figsize(15,8))\n",
    "sm.tsa.seasonal_decompose(taxi_data.taxi_call_num[0:744]).plot()\n",
    "print(\"Dickey-Fuller stationarity test: p=%f\" % sm.tsa.stattools.adfuller(taxi_data.taxi_call_num[0:744])[1])"
   ]
  },
  {
   "cell_type": "markdown",
   "metadata": {},
   "source": [
    "##### weekends may be determined from the trend plot and from seasonal graph it is obvious that each day has two maximum values - morning and evening and two minimums - day and night. Night minimum is much deeper.  "
   ]
  },
  {
   "cell_type": "code",
   "execution_count": null,
   "metadata": {
    "collapsed": true
   },
   "outputs": [],
   "source": [
    "plt.figure(figsize=(15,4))\n",
    "plt.plot(taxi_data.index, taxi_data.taxi_call_num)\n",
    "\"\"\" moving average \"\"\"\n",
    "plt.plot(taxi_data.index, taxi_data.taxi_call_num.rolling(window=24).mean(), 'r')"
   ]
  },
  {
   "cell_type": "markdown",
   "metadata": {},
   "source": [
    "##### From 6-month time serie data it may be concluded that taxi trips have weekly and daily periodicity and also periodicity within one day - night, morning, day, evening. Sunday is most \"silent\" day then amount of trips starts to grow getting maximum values in the middle of week with a subsequent decrease. \n",
    "##### Weekly and daily periodicity will be accounted by making a lineat regression model on fourier serie features with periods 7*24 hours (week) и 24 hours (day); morning/evening periodicity should be taken into account by the ARIMA model.\n",
    "##### T=168 t = 24 W(i) = T/2, T/3, T/4 ... w(i) = t/2, t/3, t/4 ...\n",
    "##### lets take first 100 garmonics"
   ]
  },
  {
   "cell_type": "code",
   "execution_count": null,
   "metadata": {
    "collapsed": true
   },
   "outputs": [],
   "source": [
    "T = 168\n",
    "t = 28\n",
    "time = np.arange(0, taxi_data.shape[0])\n",
    "regression_taxi = taxi_data.copy()\n",
    "#regression_taxi.loc[regression_taxi[\"taxi_call_num\"] == 0] = 1\n",
    "#regression_taxi['log_taxi_call_num'], lmbda = stats.boxcox(regression_taxi.taxi_call_num)"
   ]
  },
  {
   "cell_type": "code",
   "execution_count": null,
   "metadata": {
    "collapsed": true
   },
   "outputs": [],
   "source": [
    "for w in range(1, 100):\n",
    "    regression_taxi[\"sin_sin_w_\" + str(w)] = np.sin(2*np.pi*w*time/T) * np.sin(2*np.pi*w*time/t) \n",
    "    regression_taxi[\"cos_cos_w_\" + str(w)] = np.cos(2*np.pi*w*time/T) * np.cos(2*np.pi*w*time/t)\n",
    "    \n",
    "    regression_taxi[\"sin_cos_w_\" + str(w)] = np.sin(2*np.pi*w*time/T) * np.cos(2*np.pi*w*time/t)\n",
    "    regression_taxi[\"cos_sin_w_\" + str(w)] = np.cos(2*np.pi*w*time/T) * np.sin(2*np.pi*w*time/t) "
   ]
  },
  {
   "cell_type": "code",
   "execution_count": null,
   "metadata": {
    "collapsed": true
   },
   "outputs": [],
   "source": [
    "regression_taxi.head()"
   ]
  },
  {
   "cell_type": "code",
   "execution_count": null,
   "metadata": {
    "collapsed": true
   },
   "outputs": [],
   "source": [
    "regression_taxi.shape"
   ]
  },
  {
   "cell_type": "code",
   "execution_count": null,
   "metadata": {
    "collapsed": true
   },
   "outputs": [],
   "source": [
    "models = []\n",
    "for w in range(1, 100):\n",
    "    m1 = smf.ols('taxi_call_num ~ ' + ' + '.join(list(regression_taxi.columns)[1:4*w+1]), data=regression_taxi)\n",
    "    model = m1.fit(cov_type='HC1')\n",
    "    models.append(model)\n",
    "    \n",
    "# fitted.summary(); fitted.params; models[-1].rsquared; params.Intercept "
   ]
  },
  {
   "cell_type": "markdown",
   "metadata": {},
   "source": [
    "##### plot r-squared (proportion of the variance in the dependent variable that is predictable from the independent variable) dependence on number of fourier components and similar dependence but for mean squared error of the residuals (sum of squared residuals divided by the residual degrees of freedom)\n",
    "##### Here we used slighly different features - smth. like \"modulation\" and take one of the periods not equal to daily period but larger - 28 hours. Obtained result is quite good - up to 90 % of predictable variance. "
   ]
  },
  {
   "cell_type": "code",
   "execution_count": null,
   "metadata": {
    "collapsed": true
   },
   "outputs": [],
   "source": [
    "fig1 = figure(figsize=(15,5))\n",
    "\n",
    "ax1 = fig1.add_subplot(111)\n",
    "line1 = ax1.plot(range(1, 100), list(map(lambda x: x.rsquared, models)), color=\"blue\", label=\"r-square\")\n",
    "ylabel(\"r-squared\")\n",
    "\n",
    "ax2 = fig1.add_subplot(111, sharex=ax1, frameon=False)\n",
    "line2 = ax2.plot(range(1, 100), list(map(lambda x: x.mse_resid, models)), color=\"green\", label=\"resid\")\n",
    "ax2.yaxis.tick_right()\n",
    "ax2.yaxis.set_label_position(\"right\")\n",
    "ylabel(\"mse_resid\")\n",
    "\n",
    "legend((line1, line2), (\"1\", \"2\"))\n",
    "plt.xlabel(\"number of fourier components\")\n",
    "legend()\n",
    "grid()\n",
    "show() "
   ]
  },
  {
   "cell_type": "markdown",
   "metadata": {},
   "source": [
    "##### plot dependence of correlation of first lag with 168, 24 and 14 lag on number of fourier components "
   ]
  },
  {
   "cell_type": "code",
   "execution_count": null,
   "metadata": {
    "collapsed": true
   },
   "outputs": [],
   "source": [
    "statsmodels.tsa.stattools.acf(x=models[80].resid, nlags=168)[168]"
   ]
  },
  {
   "cell_type": "code",
   "execution_count": null,
   "metadata": {
    "collapsed": true
   },
   "outputs": [],
   "source": [
    "plt.figure(figsize=(15,6))\n",
    "plt.plot(range(1, 100), [statsmodels.tsa.stattools.acf(x=model.resid, nlags=168)[168] for model in models], color=\"blue\", label='week')\n",
    "plt.plot(range(1, 100), [statsmodels.tsa.stattools.acf(x=model.resid, nlags=168)[24] for model in models], color=\"green\", label='day')\n",
    "plt.plot(range(1, 100), [statsmodels.tsa.stattools.acf(x=model.resid, nlags=168)[14] for model in models], color=\"red\", label='14 hours')\n",
    "plt.legend()\n",
    "plt.grid()\n",
    "plt.xlabel(\"number of fourier components\")\n",
    "plt.ylabel(\"autocorellation with lag\")"
   ]
  },
  {
   "cell_type": "markdown",
   "metadata": {},
   "source": [
    "##### 80 components is enought for achiving good performance and quite high decorelation. Фs option is possible to choose 67 components as tradeoff between day and week decorelation  "
   ]
  },
  {
   "cell_type": "code",
   "execution_count": null,
   "metadata": {
    "collapsed": true
   },
   "outputs": [],
   "source": [
    "models[80].summary()"
   ]
  },
  {
   "cell_type": "markdown",
   "metadata": {},
   "source": [
    "##### function to get the regression prediction  "
   ]
  },
  {
   "cell_type": "code",
   "execution_count": null,
   "metadata": {
    "collapsed": true
   },
   "outputs": [],
   "source": [
    "def prediction(model, components, feature_num, dataframe):\n",
    "    coefs = np.array([model.params[coef] for coef in model.params.index])\n",
    "    fourier_components = np.hstack((np.array([1]*dataframe.shape[0]).reshape(dataframe.shape[0],1), \n",
    "                                    dataframe.iloc[:, 1:feature_num*components+1].values))\n",
    "    return coefs.dot(fourier_components.T)"
   ]
  },
  {
   "cell_type": "code",
   "execution_count": null,
   "metadata": {
    "collapsed": true
   },
   "outputs": [],
   "source": [
    "#model = models[40]\n",
    "pred = prediction(models[80], components=81, feature_num=4, dataframe=regression_taxi)"
   ]
  },
  {
   "cell_type": "code",
   "execution_count": null,
   "metadata": {
    "collapsed": true
   },
   "outputs": [],
   "source": [
    "def prediction_real(df_1, df_2, segment, title, ylabel, size, labels):\n",
    "    plt.figure(figsize=size)\n",
    "    plt.plot(df_1[segment[0]: segment[1]], alpha = 0.7, label = labels[0])\n",
    "    plt.plot(df_2[segment[0]: segment[1]], alpha=0.5, label = labels[1], color=\"red\")\n",
    "    plt.xlabel('time (hours)')\n",
    "    plt.ylabel(ylabel)\n",
    "    plt.title(title)\n",
    "    plt.legend()\n",
    "    plt.grid()"
   ]
  },
  {
   "cell_type": "code",
   "execution_count": null,
   "metadata": {
    "collapsed": true
   },
   "outputs": [],
   "source": [
    "prediction_real(pred, regression_taxi.taxi_call_num.values, (0, 745), \"January\", 'taxi calls', (15, 5), (\"predict\", \"real\"))"
   ]
  },
  {
   "cell_type": "code",
   "execution_count": null,
   "metadata": {
    "collapsed": true
   },
   "outputs": [],
   "source": [
    "prediction_real(pred, regression_taxi.taxi_call_num.values, (0, 4344), \"six months\", 'taxi calls', (50, 5), (\"predict\", \"real\"))\n",
    "\n",
    "#double click makes plot langer"
   ]
  },
  {
   "cell_type": "markdown",
   "metadata": {},
   "source": [
    "##### resids of the model. we make a plot to compare residuals of the model and real taxi values to find is it any significant structure in residual plot. "
   ]
  },
  {
   "cell_type": "code",
   "execution_count": null,
   "metadata": {
    "collapsed": true
   },
   "outputs": [],
   "source": [
    "prediction_real(regression_taxi.taxi_call_num.values, models[80].resid.values, (0, 745), \"first january week\", 'residuals', \n",
    "                (30, 5), (\"real values\", \"residuals\"))"
   ]
  },
  {
   "cell_type": "code",
   "execution_count": null,
   "metadata": {
    "collapsed": true
   },
   "outputs": [],
   "source": [
    "prediction_real(regression_taxi.taxi_call_num.values, models[80].resid.values, (0, 168), \"first january week\", 'residuals', \n",
    "                (15, 5), (\"real values\", \"residuals\"))"
   ]
  },
  {
   "cell_type": "markdown",
   "metadata": {},
   "source": [
    "##### not accounted structure stay in residual plot"
   ]
  },
  {
   "cell_type": "code",
   "execution_count": null,
   "metadata": {
    "collapsed": true
   },
   "outputs": [],
   "source": [
    "plt.figure(figsize(80,10))\n",
    "sm.tsa.seasonal_decompose(models[80].resid).plot()\n",
    "print(\"Критерий Дики-Фуллера: p=%f\" % sm.tsa.stattools.adfuller(models[80].resid)[1])"
   ]
  },
  {
   "cell_type": "code",
   "execution_count": null,
   "metadata": {
    "collapsed": true
   },
   "outputs": [],
   "source": [
    "#sm.tsa.seasonal_decompose(models[80].resid).__dict__.keys()\n",
    "#plt.plot(sm.tsa.seasonal_decompose(models[80].resid).__dict__[\"resid\"][:96])"
   ]
  },
  {
   "cell_type": "markdown",
   "metadata": {},
   "source": [
    "##### as linear regression features we choose 80 components of fourier serie\n",
    "##### $$sin(2*{\\pi}*k_f *time/168)*sin(2*{\\pi}*k_f *time/28)$$     $$cos(2*{\\pi}*k_f *time/168)*sin(2*{\\pi}*k_f *time/28)$$    $$sin(2*{\\pi}*k_f *time/168)*cos(2*{\\pi}*k_f *time/28)$$     $$cos(2*{\\pi}*k_f *time/168)*cos(2*{\\pi}*k_f *time/28)$$ "
   ]
  },
  {
   "cell_type": "code",
   "execution_count": null,
   "metadata": {
    "collapsed": true
   },
   "outputs": [],
   "source": [
    "regression_taxi.iloc[:, :321].head()"
   ]
  },
  {
   "cell_type": "code",
   "execution_count": null,
   "metadata": {
    "collapsed": true
   },
   "outputs": [],
   "source": [
    "full_regres_taxi = regression_taxi.iloc[:, :321]\n",
    "full_regres_taxi.shape"
   ]
  },
  {
   "cell_type": "markdown",
   "metadata": {},
   "source": [
    "##### its possible to introduce additional feature to consider snow storm in january 26-27. But this will not help us in making future prediction."
   ]
  },
  {
   "cell_type": "code",
   "execution_count": null,
   "metadata": {
    "collapsed": true
   },
   "outputs": [],
   "source": [
    "#full_regres_taxi = full_regres_taxi.drop(['jan_anom'], axis=1)\n",
    "full_regres_taxi['jan_anom'] = [full_regres_taxi.loc[date].taxi_call_num if date.month == 1 and date.day in [27] and date.year == 2015 else 0 for date in full_regres_taxi.index]\n",
    "full_regres_taxi.shape"
   ]
  },
  {
   "cell_type": "code",
   "execution_count": null,
   "metadata": {
    "collapsed": true
   },
   "outputs": [],
   "source": [
    "m1 = smf.ols('taxi_call_num ~ ' + ' + '.join(list(full_regres_taxi.columns)[1:]) + ' + jan_anom', data=full_regres_taxi)\n",
    "fin_model_anomal = m1.fit(cov_type='HC1')"
   ]
  },
  {
   "cell_type": "code",
   "execution_count": null,
   "metadata": {
    "collapsed": true
   },
   "outputs": [],
   "source": [
    "#result = prediction(fin_model_anomal, components=81, feature_num=4, dataframe=regression_taxi)\n",
    "\n",
    "coefs = np.array([fin_model_anomal.params[coef] for coef in fin_model_anomal.params.index])\n",
    "fourier_components = np.hstack((np.array([1]*full_regres_taxi.shape[0]).reshape(full_regres_taxi.shape[0],1), \n",
    "                                    full_regres_taxi.iloc[:, 1:4*80+2].values))\n",
    "result = coefs.dot(fourier_components.T)"
   ]
  },
  {
   "cell_type": "code",
   "execution_count": null,
   "metadata": {
    "collapsed": true
   },
   "outputs": [],
   "source": [
    "prediction_real(regression_taxi.taxi_call_num.values, result, (744, 1416), \"february\", 'taxi calls', \n",
    "                (15, 5), (\"real values\", \"prediction\"))"
   ]
  },
  {
   "cell_type": "markdown",
   "metadata": {},
   "source": [
    "### Now we are going to select appropriative ARIMA model for residual signal - data not encountered by linear regression model"
   ]
  },
  {
   "cell_type": "code",
   "execution_count": null,
   "metadata": {
    "collapsed": true
   },
   "outputs": [],
   "source": [
    "def plot_autocorr(resid_data):\n",
    "    plt.figure(figsize(15,10))\n",
    "    ax = plt.subplot(211)\n",
    "    sm.graphics.tsa.plot_acf(resid_data.squeeze(), lags=168, ax=ax)\n",
    "    pylab.show()\n",
    "    ax = plt.subplot(212)\n",
    "    sm.graphics.tsa.plot_pacf(resid_data.squeeze(), lags=168, ax=ax)\n",
    "    pylab.show() "
   ]
  },
  {
   "cell_type": "code",
   "execution_count": null,
   "metadata": {
    "collapsed": true
   },
   "outputs": [],
   "source": [
    "plot_autocorr(fin_model_anomal.resid.values)"
   ]
  },
  {
   "cell_type": "markdown",
   "metadata": {},
   "source": [
    "##### single ordinary differentiation of the time series"
   ]
  },
  {
   "cell_type": "code",
   "execution_count": null,
   "metadata": {
    "collapsed": true
   },
   "outputs": [],
   "source": [
    "full_regres_taxi[\"residuals\"] = fin_model_anomal.resid\n",
    "full_regres_taxi[\"residual_diff1\"] = full_regres_taxi[\"residuals\"] - full_regres_taxi[\"residuals\"].shift(1)"
   ]
  },
  {
   "cell_type": "code",
   "execution_count": null,
   "metadata": {
    "collapsed": true
   },
   "outputs": [],
   "source": [
    "plot_autocorr(full_regres_taxi[\"residual_diff1\"][1:].values)"
   ]
  },
  {
   "cell_type": "markdown",
   "metadata": {},
   "source": [
    "##### select search parameters from autocorrelation and partial autocorrelation plots (autocorrelation - q, Q)"
   ]
  },
  {
   "cell_type": "code",
   "execution_count": null,
   "metadata": {
    "collapsed": true
   },
   "outputs": [],
   "source": [
    "ps = range(0, 12)\n",
    "qs = range(0, 6)\n",
    "Ps = range(0, 2)\n",
    "Qs = range(0, 2)"
   ]
  },
  {
   "cell_type": "code",
   "execution_count": null,
   "metadata": {
    "collapsed": true
   },
   "outputs": [],
   "source": [
    "parameters = product(ps, qs, Ps, Qs)\n",
    "parameters_list = list(parameters)\n",
    "len(parameters_list)"
   ]
  },
  {
   "cell_type": "code",
   "execution_count": null,
   "metadata": {
    "collapsed": true
   },
   "outputs": [],
   "source": [
    "%%time\n",
    "residuals_results = []\n",
    "residuals_best_aic = float(\"inf\")\n",
    "warnings.filterwarnings('ignore')\n",
    "resid_wrong_param = 0\n",
    "\n",
    "for counter, param in enumerate(parameters_list):\n",
    "    if counter % 10 == 0:\n",
    "        print(counter, end=' ')\n",
    "    #some of the parameters set are incompatible\n",
    "    try:\n",
    "        model=sm.tsa.statespace.SARIMAX(full_regres_taxi[\"residuals\"], order=(param[0], 1, param[1]), \n",
    "                                        seasonal_order=(param[2], 0, param[3], 24)).fit(disp=-1)\n",
    "    #print failure parameters and continue\n",
    "    except LinAlgError:\n",
    "        print(\"singular matrix: \", param)\n",
    "        continue\n",
    "    except ValueError:\n",
    "        resid_wrong_param += 1\n",
    "        continue\n",
    "    aic = model.aic\n",
    "    #save best model, aic, parameters \n",
    "    if aic < residuals_best_aic:\n",
    "        residuals_best_model = model\n",
    "        residuals_best_aic = aic\n",
    "        residuals_best_param = param\n",
    "    residuals_results.append([param, model.aic])\n",
    "    \n",
    "warnings.filterwarnings('default')"
   ]
  },
  {
   "cell_type": "code",
   "execution_count": null,
   "metadata": {
    "collapsed": true
   },
   "outputs": [],
   "source": [
    "print(sorted(residuals_results, key=lambda tup: tup[1], reverse=False)[:5])"
   ]
  },
  {
   "cell_type": "code",
   "execution_count": null,
   "metadata": {
    "collapsed": true
   },
   "outputs": [],
   "source": [
    "plt.figure(figsize(15,12))\n",
    "ax = plt.subplot(211)\n",
    "sm.graphics.tsa.plot_acf(residuals_best_model.resid.values.squeeze(), lags=168, ax=ax)\n",
    "pylab.show()\n",
    "ax = plt.subplot(212)\n",
    "sm.graphics.tsa.plot_pacf(residuals_best_model.resid.values.squeeze(), lags=168, ax=ax)\n",
    "pylab.show()"
   ]
  },
  {
   "cell_type": "markdown",
   "metadata": {},
   "source": [
    "##### residual signal from best selected ARIMA model looks completely decorrelated"
   ]
  },
  {
   "cell_type": "code",
   "execution_count": null,
   "metadata": {
    "collapsed": true
   },
   "outputs": [],
   "source": [
    "best_arima = sm.tsa.statespace.SARIMAX(full_regres_taxi[\"residuals\"], order=(11, 1, 1), seasonal_order=(1, 0, 1, 24)).fit(disp=-1)"
   ]
  },
  {
   "cell_type": "code",
   "execution_count": null,
   "metadata": {
    "collapsed": true
   },
   "outputs": [],
   "source": [
    "plt.figure(figsize(15,8))\n",
    "plt.subplot(211)\n",
    "residuals_best_model.resid[1:].plot()\n",
    "plt.ylabel(u'Residuals')\n",
    "\n",
    "ax = plt.subplot(212)\n",
    "sm.graphics.tsa.plot_acf(residuals_best_model.resid[1:].values.squeeze(), lags=168, ax=ax)\n",
    "\n",
    "print(\"Критерий Стьюдента: p=%f\" % stats.ttest_1samp(residuals_best_model.resid[1:], 0)[1])\n",
    "print(\"Критерий Дики-Фуллера: p=%f\" % sm.tsa.stattools.adfuller(residuals_best_model.resid[1:])[1])"
   ]
  },
  {
   "cell_type": "code",
   "execution_count": null,
   "metadata": {
    "collapsed": true
   },
   "outputs": [],
   "source": [
    "prediction_real(full_regres_taxi[\"residuals\"], best_arima.fittedvalues, (744, 1416), \"february\", 'taxi calls', \n",
    "                (15, 5), (\"real residuals\", \"arima fitted values\"))"
   ]
  },
  {
   "cell_type": "code",
   "execution_count": null,
   "metadata": {
    "collapsed": true
   },
   "outputs": [],
   "source": [
    "prediction_real(full_regres_taxi[\"residuals\"], best_arima.fittedvalues, (3624, 4344), \"june\", 'taxi calls', \n",
    "                (15, 5), (\"real residuals\", \"arima fitted values\"))"
   ]
  },
  {
   "cell_type": "markdown",
   "metadata": {},
   "source": [
    "##### ARIMA fitted values looks good"
   ]
  },
  {
   "cell_type": "code",
   "execution_count": null,
   "metadata": {
    "collapsed": true
   },
   "outputs": [],
   "source": [
    "best_arima.fittedvalues.shape"
   ]
  },
  {
   "cell_type": "markdown",
   "metadata": {},
   "source": [
    "##### add ARIMA with parameters (p, q, P, Q) = (11, 1, 1, 1) fitted values to values predicted by linear regression model and get final result  "
   ]
  },
  {
   "cell_type": "code",
   "execution_count": null,
   "metadata": {
    "collapsed": true
   },
   "outputs": [],
   "source": [
    "final_res = result + best_arima.fittedvalues"
   ]
  },
  {
   "cell_type": "markdown",
   "metadata": {},
   "source": [
    "##### plot final fit for february and june mounth"
   ]
  },
  {
   "cell_type": "code",
   "execution_count": null,
   "metadata": {
    "collapsed": true
   },
   "outputs": [],
   "source": [
    "prediction_real(regression_taxi.taxi_call_num.values, final_res.values, (3624, 4344), \"june\", 'taxi calls', \n",
    "                (15, 5), (\"real taxi calls\", \"final prediction\"))"
   ]
  },
  {
   "cell_type": "code",
   "execution_count": null,
   "metadata": {
    "collapsed": true
   },
   "outputs": [],
   "source": [
    "prediction_real(regression_taxi.taxi_call_num.values, final_res.values, (744, 1416), \"february\", 'taxi calls', \n",
    "                (15, 5), (\"real taxi calls\", \"final prediction\"))"
   ]
  },
  {
   "cell_type": "code",
   "execution_count": null,
   "metadata": {
    "collapsed": true
   },
   "outputs": [],
   "source": []
  },
  {
   "cell_type": "markdown",
   "metadata": {},
   "source": [
    "### Try to fit data using only ARIMA model without linear regression on fourier features"
   ]
  },
  {
   "cell_type": "markdown",
   "metadata": {},
   "source": [
    "##### look at ACF и PACF of time serie:"
   ]
  },
  {
   "cell_type": "code",
   "execution_count": null,
   "metadata": {
    "collapsed": true
   },
   "outputs": [],
   "source": [
    "diff_data=pd.DataFrame(taxi_data.taxi_call_num, columns=[\"taxi_data.taxi_call_num\"])"
   ]
  },
  {
   "cell_type": "code",
   "execution_count": null,
   "metadata": {
    "collapsed": true
   },
   "outputs": [],
   "source": [
    "plot_autocorr(taxi_data.taxi_call_num.values)"
   ]
  },
  {
   "cell_type": "markdown",
   "metadata": {},
   "source": [
    "##### performe ordinary differentiation"
   ]
  },
  {
   "cell_type": "code",
   "execution_count": null,
   "metadata": {
    "collapsed": true
   },
   "outputs": [],
   "source": [
    "diff_data[\"diff_168\"] = taxi_data.taxi_call_num - taxi_data.taxi_call_num.shift(168)"
   ]
  },
  {
   "cell_type": "code",
   "execution_count": null,
   "metadata": {
    "collapsed": true
   },
   "outputs": [],
   "source": [
    "plot_autocorr(diff_data[\"diff_168\"][168:].values)"
   ]
  },
  {
   "cell_type": "markdown",
   "metadata": {},
   "source": [
    "##### performe seasonal differentiation with weekly period (168 hours)"
   ]
  },
  {
   "cell_type": "code",
   "execution_count": null,
   "metadata": {
    "collapsed": true
   },
   "outputs": [],
   "source": [
    "diff_data[\"diff_168_1\"] = diff_data[\"diff_168\"][168:] - diff_data[\"diff_168\"][168:].shift(1)"
   ]
  },
  {
   "cell_type": "code",
   "execution_count": null,
   "metadata": {
    "collapsed": true
   },
   "outputs": [],
   "source": [
    "plot_autocorr(diff_data[\"diff_168_1\"][169:].values)"
   ]
  },
  {
   "cell_type": "markdown",
   "metadata": {},
   "source": [
    "##### select search parameters from autocorrelation and partial autocorrelation plots (autocorrelation - q, Q)\n",
    "##### Q=1, q=5, P=1, p=11"
   ]
  },
  {
   "cell_type": "code",
   "execution_count": null,
   "metadata": {
    "collapsed": true
   },
   "outputs": [],
   "source": [
    "ps = range(0, 12)\n",
    "qs = range(0, 6)\n",
    "Ps = range(0, 2)\n",
    "Qs = range(0, 2)"
   ]
  },
  {
   "cell_type": "code",
   "execution_count": null,
   "metadata": {
    "collapsed": true
   },
   "outputs": [],
   "source": [
    "parameters = product(ps, qs, Ps, Qs)\n",
    "parameters_list = list(parameters)\n",
    "len(parameters_list)"
   ]
  },
  {
   "cell_type": "code",
   "execution_count": null,
   "metadata": {
    "collapsed": true
   },
   "outputs": [],
   "source": [
    "%%time\n",
    "results = []\n",
    "best_aic = float(\"inf\")\n",
    "warnings.filterwarnings('ignore')\n",
    "wrong_parameters_counter = 0\n",
    "\n",
    "for counter, param in enumerate(parameters_list):\n",
    "    if counter % 10 == 0:\n",
    "        print(counter, end=' ')\n",
    "    #some of the parameters set are incompatible\n",
    "    try:\n",
    "        model=sm.tsa.statespace.SARIMAX(taxi_data.taxi_call_num, order=(param[0], 1, param[1]), \n",
    "                                        seasonal_order=(param[2], 1, param[3], 24)).fit(disp=-1)\n",
    "    #print failure parameters and continue\n",
    "    except LinAlgError:\n",
    "        print(\"singular matrix: \", param)\n",
    "        continue\n",
    "    except ValueError:\n",
    "        wrong_parameters_counter += 1\n",
    "        continue\n",
    "    aic = model.aic\n",
    "    #save best model, aic, parameters \n",
    "    if aic < best_aic:\n",
    "        best_model = model\n",
    "        best_aic = aic\n",
    "        best_param = param\n",
    "    results.append([param, model.aic])\n",
    "    \n",
    "warnings.filterwarnings('default')"
   ]
  },
  {
   "cell_type": "code",
   "execution_count": null,
   "metadata": {
    "collapsed": true
   },
   "outputs": [],
   "source": [
    "print(wrong_parameters_counter)"
   ]
  },
  {
   "cell_type": "code",
   "execution_count": null,
   "metadata": {
    "collapsed": true
   },
   "outputs": [],
   "source": [
    "print(sorted(results, key=lambda tup: tup[1], reverse=False)[:5])"
   ]
  },
  {
   "cell_type": "markdown",
   "metadata": {},
   "source": [
    "##### look at residuals of best selected SARIMA model"
   ]
  },
  {
   "cell_type": "code",
   "execution_count": null,
   "metadata": {
    "collapsed": true
   },
   "outputs": [],
   "source": [
    "plt.figure(figsize(15,12))\n",
    "ax = plt.subplot(211)\n",
    "sm.graphics.tsa.plot_acf(best_model.resid.values.squeeze(), lags=168, ax=ax)\n",
    "pylab.show()\n",
    "ax = plt.subplot(212)\n",
    "sm.graphics.tsa.plot_pacf(best_model.resid.values.squeeze(), lags=168, ax=ax)\n",
    "pylab.show()"
   ]
  },
  {
   "cell_type": "code",
   "execution_count": null,
   "metadata": {
    "collapsed": true
   },
   "outputs": [],
   "source": [
    "plt.figure(figsize(15,8))\n",
    "plt.subplot(211)\n",
    "best_model.resid[1:].plot()\n",
    "plt.ylabel(u'Residuals')\n",
    "\n",
    "ax = plt.subplot(212)\n",
    "sm.graphics.tsa.plot_acf(best_model.resid[1:].values.squeeze(), lags=168, ax=ax)\n",
    "\n",
    "print(\"Критерий Стьюдента: p=%f\" % stats.ttest_1samp(best_model.resid[1:], 0)[1])\n",
    "print(\"Критерий Дики-Фуллера: p=%f\" % sm.tsa.stattools.adfuller(best_model.resid[1:])[1])"
   ]
  },
  {
   "cell_type": "code",
   "execution_count": null,
   "metadata": {
    "collapsed": true
   },
   "outputs": [],
   "source": [
    "best_arima_1 = sm.tsa.statespace.SARIMAX(taxi_data.taxi_call_num, order=(9, 1, 1), \n",
    "                                        seasonal_order=(1, 1, 1, 24)).fit(disp=-1)"
   ]
  },
  {
   "cell_type": "markdown",
   "metadata": {},
   "source": [
    "##### plot final fit for february and june mounth"
   ]
  },
  {
   "cell_type": "code",
   "execution_count": null,
   "metadata": {
    "collapsed": true
   },
   "outputs": [],
   "source": [
    "prediction_real(regression_taxi.taxi_call_num.values, best_arima_1.fittedvalues.values, (3624, 4344), \"june\", 'taxi calls', \n",
    "                (15, 5), (\"real taxi calls\", \"final SARIMA fitted\"))"
   ]
  },
  {
   "cell_type": "code",
   "execution_count": null,
   "metadata": {
    "collapsed": true
   },
   "outputs": [],
   "source": [
    "prediction_real(regression_taxi.taxi_call_num.values, best_arima_1.fittedvalues.values, (744, 1416), \"february\", 'taxi calls', \n",
    "                (15, 5), (\"real taxi calls\", \"final SARIMA fitted\"))"
   ]
  },
  {
   "cell_type": "markdown",
   "metadata": {},
   "source": [
    "##### Using only SARIMA (parameters (p, q, P, Q) = (9, 1, 1, 1)) prediction model with one ordinary and one seasonal (168 hour) differentiation we got visualy good fitted values for time serie. SARIMA is very time and resource consuming especially with seasonal differentiation. It give good fitted results but is pure for prediction of such taxi trips time serie. "
   ]
  },
  {
   "cell_type": "code",
   "execution_count": null,
   "metadata": {
    "collapsed": true
   },
   "outputs": [],
   "source": []
  }
 ],
 "metadata": {
  "kernelspec": {
   "display_name": "Python 3",
   "language": "python",
   "name": "python3"
  },
  "language_info": {
   "codemirror_mode": {
    "name": "ipython",
    "version": 3
   },
   "file_extension": ".py",
   "mimetype": "text/x-python",
   "name": "python",
   "nbconvert_exporter": "python",
   "pygments_lexer": "ipython3",
   "version": "3.5.4"
  }
 },
 "nbformat": 4,
 "nbformat_minor": 2
}

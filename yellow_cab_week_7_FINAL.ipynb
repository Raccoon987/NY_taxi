{
 "cells": [
  {
   "cell_type": "code",
   "execution_count": 1,
   "metadata": {},
   "outputs": [],
   "source": [
    "%pylab inline\n",
    "import pandas as pd\n",
    "import matplotlib.pyplot as plt\n",
    "import numpy as np\n",
    "import csv\n",
    "import pickle\n",
    "import json\n",
    "import geopandas as gpd\n",
    "from branca.colormap import linear\n",
    "\n",
    "import folium\n",
    "from folium.plugins import TimeSliderChoropleth\n",
    "\n",
    "from ipywidgets import widgets, interact, Label, HBox\n",
    "from ipyleaflet import Map, basemaps, GeoJSON, DrawControl, LayersControl, basemap_to_tiles, Rectangle\n",
    "import plotly.plotly as py\n",
    "import plotly.graph_objs as go\n",
    "\n",
    "from branca.element import Figure"
   ]
  },
  {
   "cell_type": "code",
   "execution_count": 2,
   "metadata": {},
   "outputs": [],
   "source": [
    "'''pip install -e git://github.com/python-visualization/folium.git@master#egg=folium'''"
   ]
  },
  {
   "cell_type": "code",
   "execution_count": 3,
   "metadata": {},
   "outputs": [],
   "source": [
    "print(folium.__version__)"
   ]
  },
  {
   "cell_type": "code",
   "execution_count": 4,
   "metadata": {},
   "outputs": [],
   "source": [
    "pd.__version__"
   ]
  },
  {
   "cell_type": "markdown",
   "metadata": {},
   "source": [
    "##### work only with may june 2016 data"
   ]
  },
  {
   "cell_type": "code",
   "execution_count": 2,
   "metadata": {
    "collapsed": true
   },
   "outputs": [],
   "source": [
    "verify_file = \"H:/Yandex machine learning/finall course coursera/verif_bin_stat_5_6_2016.pkl\"\n",
    "predict_file = \"H:/Yandex machine learning/finall course coursera/3) Taxi time serie prediction/week 6/final_taxi_prediction_2015-05-06.csv\""
   ]
  },
  {
   "cell_type": "code",
   "execution_count": 3,
   "metadata": {
    "collapsed": true
   },
   "outputs": [],
   "source": [
    "NY_long_west = -74.25559\n",
    "NY_long_east = -73.70001\n",
    "NY_latt_south = 40.49612\n",
    "NY_latt_north = 40.91553\n",
    "\n",
    "start_pred = '2016-06-01T00:00:00.000000000'\n",
    "end_pred = '2016-06-07T23:00:00.000000000'"
   ]
  },
  {
   "cell_type": "code",
   "execution_count": 4,
   "metadata": {
    "collapsed": true
   },
   "outputs": [],
   "source": [
    "with open(verify_file, \"rb\") as f:\n",
    "    verify_2month = pickle.load(f)  \n",
    "    \n",
    "with open(predict_file, \"rb\") as f:\n",
    "    data_predict = pd.read_csv(f, sep=\"\\t\")    "
   ]
  },
  {
   "cell_type": "code",
   "execution_count": 5,
   "metadata": {},
   "outputs": [],
   "source": [
    "print(verify_2month.shape)\n",
    "print(data_predict.shape)"
   ]
  },
  {
   "cell_type": "code",
   "execution_count": 6,
   "metadata": {
    "collapsed": true
   },
   "outputs": [],
   "source": [
    "time = pd.date_range('2016 May 1 00:00:00', '2016 June 30 23:00:00', freq = 'h')\n",
    "\n",
    "verify_taxi = pd.DataFrame(verify_2month.T[1:, :], index = time, columns=list(map(int, verify_2month.T[0, :])))\n",
    "data_predict = pd.DataFrame(data_predict.iloc[:, 1:].values, index = time, columns=list(map(int, data_predict.columns[1:])))"
   ]
  },
  {
   "cell_type": "code",
   "execution_count": 10,
   "metadata": {},
   "outputs": [],
   "source": [
    "verify_taxi.head()"
   ]
  },
  {
   "cell_type": "code",
   "execution_count": 19,
   "metadata": {},
   "outputs": [],
   "source": [
    "data_predict.head()"
   ]
  },
  {
   "cell_type": "code",
   "execution_count": null,
   "metadata": {
    "collapsed": true
   },
   "outputs": [],
   "source": []
  },
  {
   "cell_type": "markdown",
   "metadata": {},
   "source": [
    "##### NY city coordinate grid"
   ]
  },
  {
   "cell_type": "code",
   "execution_count": 7,
   "metadata": {},
   "outputs": [],
   "source": [
    "lat_grid = np.linspace(NY_latt_south, NY_latt_north, 51)\n",
    "long_grid = np.linspace(NY_long_west, NY_long_east, 51)\n",
    "\n",
    "lat, lon = np.meshgrid(lat_grid, long_grid, indexing=\"ij\")\n",
    "NY_coord_grid = np.dstack((lat, lon))\n",
    "NY_coord_grid.shape"
   ]
  },
  {
   "cell_type": "code",
   "execution_count": 11,
   "metadata": {
    "collapsed": true
   },
   "outputs": [],
   "source": [
    "#nonempty_col = np.ravel(list(verify_taxi.columns.values))\n",
    "#mtx = np.array([np.zeros(168) if region not in nonempty_col else np.ravel(verify_taxi.loc[start_pred:end_pred][region].values)\n",
    "#                              for region in range(2500)]).T \n",
    "#mtx_ = mtx.reshape(-1, 50, 50)\n",
    "#mtx_ = mtx_.transpose(0, 2, 1)\n",
    "\n",
    "'''YlOrBr_05 BuGn_09 Blues_08 PuRd_09 Oranges_09'''\n",
    "#from branca.colormap import linear\n",
    "#colormap = linear.YlOrBr_09.scale(verify_taxi.values.min(), verify_taxi.values.max())"
   ]
  },
  {
   "cell_type": "code",
   "execution_count": null,
   "metadata": {
    "collapsed": true
   },
   "outputs": [],
   "source": []
  },
  {
   "cell_type": "markdown",
   "metadata": {
    "collapsed": true
   },
   "source": [
    "### Create interactive maping in time to compare real and predicted taxi calls. "
   ]
  },
  {
   "cell_type": "markdown",
   "metadata": {},
   "source": [
    "##### 1) First version"
   ]
  },
  {
   "cell_type": "markdown",
   "metadata": {},
   "source": [
    "##### create coordinate grid of city regions"
   ]
  },
  {
   "cell_type": "code",
   "execution_count": 8,
   "metadata": {
    "collapsed": true
   },
   "outputs": [],
   "source": [
    "ny_json = {\n",
    "            \"type\": \"FeatureCollection\",\n",
    "            \"features\": []\n",
    "          }   "
   ]
  },
  {
   "cell_type": "code",
   "execution_count": 9,
   "metadata": {
    "collapsed": true
   },
   "outputs": [],
   "source": [
    "def create_reg_grid(json_d):\n",
    "    for i in range(50):\n",
    "        for j in range(50):\n",
    "            if (50*i + j) in verify_taxi.columns.values: \n",
    "                json_d[\"features\"].append({\n",
    "                                            \"properties\": {\"name\": 50*i + j, \n",
    "                                                           \"style\": {\"color\": \"white\", \"weight\": 0.5, \n",
    "                                                                     'fillColor':\"red\", \"fillOpacity\": 0.2}},\n",
    "                                            \"id\": 50*i + j,\n",
    "                                            \"type\": \"Feature\",\n",
    "                                            \"geometry\": {\n",
    "                                                        \"type\": \"Polygon\",\n",
    "                                                        \"coordinates\": [[[long_grid[i], lat_grid[j]],\n",
    "                                                                         [long_grid[i], lat_grid[j+1]], \n",
    "                                                                         [long_grid[i+1], lat_grid[j+1]],\n",
    "                                                                         [long_grid[i+1], lat_grid[j],\n",
    "                                                                       ]]]\n",
    "                                                }\n",
    "                                           })       "
   ]
  },
  {
   "cell_type": "code",
   "execution_count": 10,
   "metadata": {
    "collapsed": true
   },
   "outputs": [],
   "source": [
    "create_reg_grid(ny_json)"
   ]
  },
  {
   "cell_type": "markdown",
   "metadata": {
    "collapsed": true
   },
   "source": [
    "##### styledict = { <br> &nbsp;&nbsp;&nbsp;&nbsp; '0': { '2017-1-1': {'color': 'ffffff', 'opacity': 1} <br> &nbsp;&nbsp;&nbsp;&nbsp;&nbsp;&nbsp;&nbsp;&nbsp;&nbsp;&nbsp;&nbsp;&nbsp; '2017-1-2': {'color': 'fffff0', 'opacity': 1} <br> &nbsp;&nbsp;&nbsp;&nbsp;&nbsp;&nbsp;&nbsp;&nbsp;&nbsp;&nbsp;&nbsp;&nbsp;... <br> &nbsp;&nbsp;&nbsp;&nbsp;&nbsp;&nbsp;&nbsp;&nbsp;&nbsp;&nbsp;&nbsp;&nbsp;}, <br>  &nbsp;&nbsp;&nbsp;&nbsp;&nbsp;&nbsp;&nbsp;&nbsp;&nbsp;&nbsp;&nbsp;&nbsp;..., <br> &nbsp;&nbsp;&nbsp;&nbsp; 'n': { <br> &nbsp;&nbsp;&nbsp;&nbsp;&nbsp;&nbsp;&nbsp;&nbsp;&nbsp;&nbsp;&nbsp;&nbsp; '2017-1-1': {'color': 'ffffff', 'opacity': 1} <br>  &nbsp;&nbsp;&nbsp;&nbsp;&nbsp;&nbsp;&nbsp;&nbsp;&nbsp;&nbsp;&nbsp;&nbsp; '2017-1-2': {'color': 'fffff0', 'opacity': 1} <br>  &nbsp;&nbsp;&nbsp;&nbsp;&nbsp;&nbsp;&nbsp;&nbsp;&nbsp;&nbsp;&nbsp; ... <br> &nbsp;&nbsp;&nbsp;&nbsp;&nbsp;&nbsp;&nbsp;&nbsp;&nbsp;&nbsp;&nbsp;  } <br>  &nbsp;&nbsp;&nbsp;&nbsp;&nbsp; }"
   ]
  },
  {
   "cell_type": "code",
   "execution_count": 11,
   "metadata": {
    "collapsed": true
   },
   "outputs": [],
   "source": [
    "styledict_actual = {}\n",
    "styledict_predicted = {}\n",
    "\n",
    "max_val_act = np.sqrt(verify_taxi.values.max())\n",
    "max_val_pred = np.sqrt(data_predict.fillna(0).values.max())\n",
    "\n",
    "def create_style_grid(style_json, df, max_val):\n",
    "    for region in range(1, 2501):\n",
    "        d = {}\n",
    "        if region in df.columns.values:\n",
    "            for t in df.index.values[744:816]: \n",
    "                ''' first three days of june 2016 '''\n",
    "                time = ((t - np.datetime64('1970-01-01T03:00:00')) / np.timedelta64(1, 's')).astype(str)\n",
    "                d[time] = {'color': 'red', 'opacity': np.sqrt(df.loc[t, region]) / max_val}\n",
    "            style_json[region] = d    "
   ]
  },
  {
   "cell_type": "code",
   "execution_count": 12,
   "metadata": {
    "collapsed": true
   },
   "outputs": [],
   "source": [
    "create_style_grid(styledict_actual, verify_taxi, max_val_act)\n",
    "create_style_grid(styledict_predicted, data_predict, max_val_pred)"
   ]
  },
  {
   "cell_type": "code",
   "execution_count": 17,
   "metadata": {},
   "outputs": [],
   "source": [
    "print(len(ny_json[\"features\"]), len(styledict_actual))"
   ]
  },
  {
   "cell_type": "markdown",
   "metadata": {},
   "source": [
    "##### to reduce the spread of the taxi calls РјС„РґРіСѓ - a square root was taken. Without this, the visualization map plotted by intensity of color (to be more precise - the degree of transparency) would be predominantly white."
   ]
  },
  {
   "cell_type": "markdown",
   "metadata": {},
   "source": [
    "##### in class TimeSliderChoropleth folium package I have changed method toDateString() on  toString() - in the part of code written in JavaScript and relats to the time slider visualization. Without this change time was showed without its hours part. Only year, month and day."
   ]
  },
  {
   "cell_type": "code",
   "execution_count": 13,
   "metadata": {},
   "outputs": [],
   "source": [
    "width, height = 980, 940\n",
    "\n",
    "fig = Figure(width=width, height=height, ratio=\"60%\")\n",
    "subplots, f_map, t_chor  = [], [], []\n",
    "\n",
    "for idx, s in enumerate([styledict_actual, styledict_predicted]):\n",
    "    subplots.append(fig.add_subplot(1, 2, idx+1, margin=0.07))\n",
    "\n",
    "    f_map.append(folium.Map([40.720610, -73.905242], tiles='cartodbpositron', zoom_start=11, width= '100%', height = '100%'))#width= 470, height = 520)\n",
    "    t_chor.append(TimeSliderChoropleth(\n",
    "                                       ny_json,\n",
    "                                       styledict=s,).add_to(f_map[idx]))\n",
    "\n",
    "    folium.TileLayer('openstreetmap').add_to(f_map[idx])\n",
    "    folium.TileLayer('stamenterrain').add_to(f_map[idx])\n",
    "    folium.TileLayer('Mapbox Bright').add_to(f_map[idx])\n",
    "    folium.LayerControl().add_to(f_map[idx])\n",
    "\n",
    "    subplots[idx].add_child(f_map[idx])\n",
    "\n",
    "fig "
   ]
  },
  {
   "cell_type": "markdown",
   "metadata": {},
   "source": [
    "##### 2) Second version"
   ]
  },
  {
   "cell_type": "code",
   "execution_count": 14,
   "metadata": {
    "collapsed": true
   },
   "outputs": [],
   "source": [
    "ny_json_actual = {\n",
    "            \"type\": \"FeatureCollection\",\n",
    "            \"features\": []\n",
    "          } \n",
    "\n",
    "ny_json_predicted = {\n",
    "            \"type\": \"FeatureCollection\",\n",
    "            \"features\": []\n",
    "          } "
   ]
  },
  {
   "cell_type": "code",
   "execution_count": 15,
   "metadata": {
    "collapsed": true
   },
   "outputs": [],
   "source": [
    "create_reg_grid(ny_json_actual)\n",
    "create_reg_grid(ny_json_predicted)"
   ]
  },
  {
   "cell_type": "code",
   "execution_count": 16,
   "metadata": {
    "collapsed": true
   },
   "outputs": [],
   "source": [
    "def plot_dict(reg_num):\n",
    "    #print(reg_num)\n",
    "    end_time = verify_taxi.loc[:, reg_num].index.values[336]\n",
    "    if reg_num in verify_taxi.columns.values:\n",
    "        actual_df = verify_taxi.loc[:end_time, reg_num]\n",
    "        predict_df = data_predict.loc[:end_time, reg_num]\n",
    "\n",
    "        trace_actual = go.Scatter(\n",
    "            x=list(map(str,actual_df.index.values)),\n",
    "            y=actual_df.values,\n",
    "            name = \"actual\",\n",
    "            line = dict(color = '#17BECF'),\n",
    "            opacity = 0.8)\n",
    "\n",
    "        trace_prediction = go.Scatter(\n",
    "            x=list(map(str,predict_df.index.values)),\n",
    "            y=predict_df.values,\n",
    "            name = \"prediction\",\n",
    "            line = dict(color = '#ffa500'),\n",
    "            opacity = 0.8)\n",
    "\n",
    "        data = [trace_actual, trace_prediction]\n",
    "\n",
    "        layout = dict(\n",
    "            title='Taxi Time Series',\n",
    "            xaxis=dict(\n",
    "                rangeselector=dict(\n",
    "                    buttons=list([\n",
    "                        dict(count=1,\n",
    "                             label='1d',\n",
    "                             step='day',\n",
    "                             stepmode='backward'),\n",
    "                        dict(count=7,\n",
    "                             label='7d',\n",
    "                             step='day',\n",
    "                             stepmode='backward'),\n",
    "                        dict(step='all')\n",
    "                    ])\n",
    "                ),\n",
    "                rangeslider=dict(),\n",
    "                type='date'\n",
    "            )\n",
    "        )\n",
    "\n",
    "        fig = dict(data=data, layout=layout)\n",
    "        \n",
    "        return fig, \"Taxi Time Series\"       "
   ]
  },
  {
   "cell_type": "code",
   "execution_count": 17,
   "metadata": {
    "collapsed": true
   },
   "outputs": [],
   "source": [
    "def plot_pediction(figure, name):\n",
    "    display(py.iplot(figure, filename = name))"
   ]
  },
  {
   "cell_type": "code",
   "execution_count": 18,
   "metadata": {
    "collapsed": true
   },
   "outputs": [],
   "source": [
    "def f(x):\n",
    "    ''' .OpenStreetMap.Mapnik OpenStreetMap.BlackAndWhite, OpenMapSurfer.Grayscale, Esri.WorldStreetMap, Hydda.Full'''\n",
    "    m, label, region = [], [], []\n",
    "    \n",
    "    def handle_interaction(**kwargs):\n",
    "        if kwargs.get('type') == 'mousedown':\n",
    "            coords = kwargs.get('coordinates')\n",
    "            long, lat = (coords[1] - NY_long_west), (coords[0] - NY_latt_south)\n",
    "            long_size, lat_size = abs(NY_long_east - NY_long_west), abs(NY_latt_north - NY_latt_south)\n",
    "            r = (long // (long_size / 50)) * 50 +  (lat // (lat_size / 50))\n",
    "            if int(r) in verify_taxi.columns.values:\n",
    "                region[idx].value = str(int(r))\n",
    "                figure, plot_name = plot_dict(reg_num=int(r))\n",
    "                display(py.iplot(figure, filename = plot_name))\n",
    "                #plot_pediction(figure, plot_name)\n",
    "                \n",
    "        if kwargs.get('type') == 'mousemove':\n",
    "            label[idx].value = str(kwargs.get('coordinates'))\n",
    "    \n",
    "    for idx, ny_json in enumerate([ny_json_actual, ny_json_predicted]):\n",
    "        m.append(Map(center=[40.720610, -73.905242], zoom=11, basemap= basemaps.Hydda.Full, \n",
    "                     layout=dict(width='480px', height='600px')))\n",
    "        \n",
    "        for layer in [basemaps.OpenMapSurfer.Roads, basemaps.Esri.WorldStreetMap, basemaps.OpenMapSurfer.Grayscale, \n",
    "                      basemaps.Esri.WorldImagery, basemaps.OpenStreetMap.France,]:\n",
    "            m[idx].add_layer(basemap_to_tiles(layer))\n",
    "\n",
    "        m[idx].add_layer(GeoJSON(data=ny_json))\n",
    "        m[idx].add_layer(GeoJSON(data=ny_json, hover_style={'fillColor': \"#4292c6\", 'fillOpacity': 0.7}, name='regions'))\n",
    "\n",
    "        # Adding the control\n",
    "        m[idx].add_control(LayersControl())\n",
    "\n",
    "        label.append(Label())\n",
    "        region.append(Label())\n",
    "        \n",
    "        m[idx].on_interaction(handle_interaction)\n",
    "\n",
    "        display(label[idx])\n",
    "        display(region[idx])\n",
    "\n",
    "    \n",
    "    box_layout = widgets.Layout(display='flex', flex_flow='column', width='50%', height='600px')\n",
    "    \n",
    "    map_1 = widgets.VBox([widgets.Text('actual', disabled=True), m[0]], layout=box_layout)\n",
    "    map_2 = widgets.VBox([widgets.Text('prediction', disabled=True), m[1]], layout=box_layout)\n",
    "    \n",
    "    maps= widgets.HBox(children=[map_1, map_2])\n",
    "    display(maps)"
   ]
  },
  {
   "cell_type": "markdown",
   "metadata": {},
   "source": [
    "##### left click on any of 102 regions - and a graph with real and predicted values for this region will appear under the NY map plot. its possible to change map layouts - thus giving the map a different appearance"
   ]
  },
  {
   "cell_type": "code",
   "execution_count": 19,
   "metadata": {},
   "outputs": [],
   "source": [
    "max_actual = np.sqrt(verify_taxi.values.max())\n",
    "max_predict = np.sqrt(data_predict.fillna(0).values.max())\n",
    "\n",
    "def update(change):\n",
    "        time = hour_slider.value\n",
    "        #print(time)\n",
    "        for idx, reg in enumerate(verify_taxi.columns.values):\n",
    "            if ny_json_actual[\"features\"][idx][\"id\"] == reg: \n",
    "                ny_json_actual[\"features\"][idx][\"properties\"][\"style\"][\"fillOpacity\"] =\\\n",
    "                                                                np.sqrt(verify_taxi.loc[time, reg]) / max_actual\n",
    "            if ny_json_predicted[\"features\"][idx][\"id\"] == reg:        \n",
    "                ny_json_predicted[\"features\"][idx][\"properties\"][\"style\"][\"fillOpacity\"] =\\\n",
    "                                                                np.sqrt(data_predict.loc[time, reg]) / max_predict \n",
    "                \n",
    "\n",
    "hour_slider = widgets.SelectionSlider(description=\"time\", options=list(verify_taxi.index.values[744:816]),\n",
    "                                           continuous_update=False, value=verify_taxi.index.values[744])  \n",
    "                    \n",
    "hour_slider.observe(update, names=\"value\") \n",
    "\n",
    "interact(f, x=hour_slider); "
   ]
  },
  {
   "cell_type": "code",
   "execution_count": null,
   "metadata": {
    "collapsed": true
   },
   "outputs": [],
   "source": [
    "'''\n",
    "basemaps.OpenStreetMap.Mapnik, basemaps.OpenStreetMap.BlackAndWhite, basemaps.OpenStreetMap.France, basemaps.OpenMapSurfer.Roads, basemaps.Esri.WorldStreetMap,basemaps.Esri.WorldImagery, basemaps.Esri.NatGeoWorldMap\n",
    "basemaps.OpenStreetMap.BlackAndWhite, basemaps.OpenMapSurfer.Grayscale\n",
    "\n",
    "basemaps.OpenStreetMap.HOT, , basemaps.OpenStreetMap.DE\n",
    "basemaps.OpenMapSurfer.Grayscale\n",
    "basemaps.Esri.WorldTopoMap \n",
    "'''"
   ]
  },
  {
   "cell_type": "code",
   "execution_count": null,
   "metadata": {
    "collapsed": true
   },
   "outputs": [],
   "source": []
  },
  {
   "cell_type": "code",
   "execution_count": null,
   "metadata": {
    "collapsed": true
   },
   "outputs": [],
   "source": []
  }
 ],
 "metadata": {
  "kernelspec": {
   "display_name": "Python 3",
   "language": "python",
   "name": "python3"
  },
  "language_info": {
   "codemirror_mode": {
    "name": "ipython",
    "version": 3
   },
   "file_extension": ".py",
   "mimetype": "text/x-python",
   "name": "python",
   "nbconvert_exporter": "python",
   "pygments_lexer": "ipython3",
   "version": "3.5.4"
  }
 },
 "nbformat": 4,
 "nbformat_minor": 1
}

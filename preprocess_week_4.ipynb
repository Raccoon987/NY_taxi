{
 "cells": [
  {
   "cell_type": "code",
   "execution_count": 1,
   "metadata": {
    "collapsed": true
   },
   "outputs": [],
   "source": [
    "import pandas as pd\n",
    "import matplotlib.pyplot as plt\n",
    "import numpy as np\n",
    "import pickle\n",
    "import re\n",
    "import os"
   ]
  },
  {
   "cell_type": "code",
   "execution_count": 12,
   "metadata": {
    "collapsed": true
   },
   "outputs": [],
   "source": [
    "mypath = [\"H:/Yandex machine learning/finall course coursera/csv_yellow_cab_2014/reg_bin_stat/\", \n",
    "          \"H:/Yandex machine learning/finall course coursera/csv_yellow_cab_2015/reg_bin_stat/\",\n",
    "          \"H:/Yandex machine learning/finall course coursera/csv_yellow_cab_2016/reg_bin_stat/\"]"
   ]
  },
  {
   "cell_type": "code",
   "execution_count": 2,
   "metadata": {
    "collapsed": true
   },
   "outputs": [],
   "source": [
    "def sorted_digit_files(l):\n",
    "    \"\"\" Sorts the given iterable in the way that is expected.\n",
    " \n",
    "    Required arguments:\n",
    "    l -- The iterable to be sorted.\n",
    " \n",
    "    \"\"\"\n",
    "    convert = lambda text: int(text) if text.isdigit() else text\n",
    "    alphanum_key = lambda key: [convert(c) for c in re.split('([0-9]+)', key)]\n",
    "    return sorted(l, key = alphanum_key)"
   ]
  },
  {
   "cell_type": "markdown",
   "metadata": {},
   "source": [
    "##### In the subsequent notebooks we will work with two year long time series - minimum duration to get into account annual seasonality.  Firstly lets join data for each month from june 2014 (included) up to may 2016 (excluded) into already familiar matrix [region x time(hours)] with amount of taxi trips in its cells  "
   ]
  },
  {
   "cell_type": "code",
   "execution_count": 14,
   "metadata": {
    "collapsed": true
   },
   "outputs": [],
   "source": [
    "month_reg_arr = np.array([[]]*2500)"
   ]
  },
  {
   "cell_type": "markdown",
   "metadata": {},
   "source": [
    "##### leave may and june months 2016 to be a validation set and data for prediction assessment "
   ]
  },
  {
   "cell_type": "code",
   "execution_count": 15,
   "metadata": {},
   "outputs": [
    {
     "name": "stdout",
     "output_type": "stream",
     "text": [
      "reg_bin_stat_2014-05.pkl (2500, 744)\n",
      "reg_bin_stat_2014-06.pkl (2500, 720)\n",
      "reg_bin_stat_2014-07.pkl (2500, 744)\n",
      "reg_bin_stat_2014-08.pkl (2500, 744)\n",
      "reg_bin_stat_2014-09.pkl (2500, 720)\n",
      "reg_bin_stat_2014-10.pkl (2500, 744)\n",
      "reg_bin_stat_2014-11.pkl (2500, 720)\n",
      "reg_bin_stat_2014-12.pkl (2500, 744)\n",
      "reg_bin_stat_2015-01.pkl (2500, 744)\n",
      "reg_bin_stat_2015-02.pkl (2500, 672)\n",
      "reg_bin_stat_2015-03.pkl (2500, 744)\n",
      "reg_bin_stat_2015-04.pkl (2500, 720)\n",
      "reg_bin_stat_2015-05.pkl (2500, 744)\n",
      "reg_bin_stat_2015-06.pkl (2500, 720)\n",
      "reg_bin_stat_2015-07.pkl (2500, 744)\n",
      "reg_bin_stat_2015-08.pkl (2500, 744)\n",
      "reg_bin_stat_2015-09.pkl (2500, 720)\n",
      "reg_bin_stat_2015-10.pkl (2500, 744)\n",
      "reg_bin_stat_2015-11.pkl (2500, 720)\n",
      "reg_bin_stat_2015-12.pkl (2500, 744)\n",
      "reg_bin_stat_2016-01.pkl (2500, 744)\n",
      "reg_bin_stat_2016-02.pkl (2500, 696)\n",
      "reg_bin_stat_2016-03.pkl (2500, 744)\n",
      "reg_bin_stat_2016-04.pkl (2500, 720)\n"
     ]
    }
   ],
   "source": [
    "for path in mypath:\n",
    "    for file in sorted_digit_files([f for f in os.listdir(path) if (os.path.isfile(os.path.join(path, f)) and f != \"reg_bin_stat_2016-06.pkl\"\n",
    "                                                                   and f != \"reg_bin_stat_2016-05.pkl\")]):\n",
    "        #print(file)\n",
    "        with open(path + file, \"rb\") as f:\n",
    "            region_bined_stat = pickle.load(f)\n",
    "            print(file, region_bined_stat.shape)\n",
    "            month_reg_arr = np.append(month_reg_arr, region_bined_stat[:, :], axis=1)         "
   ]
  },
  {
   "cell_type": "code",
   "execution_count": 16,
   "metadata": {},
   "outputs": [
    {
     "data": {
      "text/plain": [
       "(2500, 17544)"
      ]
     },
     "execution_count": 16,
     "metadata": {},
     "output_type": "execute_result"
    }
   ],
   "source": [
    "month_reg_arr.shape"
   ]
  },
  {
   "cell_type": "markdown",
   "metadata": {},
   "source": [
    "##### leave only regions with mean amount of taxi trips per hour bigger than 5 - 102 from 2500 different regions, merge all month data, than create matrix [region x time(hours)]. Add region label as first column"
   ]
  },
  {
   "cell_type": "code",
   "execution_count": 26,
   "metadata": {
    "collapsed": true
   },
   "outputs": [],
   "source": [
    "#np.where(mean_region > 5)\n",
    "#np.where(mean_region > 5)[0].shape"
   ]
  },
  {
   "cell_type": "code",
   "execution_count": 27,
   "metadata": {},
   "outputs": [
    {
     "data": {
      "text/plain": [
       "(102, 17545)"
      ]
     },
     "execution_count": 27,
     "metadata": {},
     "output_type": "execute_result"
    }
   ],
   "source": [
    "mean_region = np.mean(month_reg_arr, axis=1)\n",
    "month_reg = month_reg_arr[np.where(mean_region > 5), :]\n",
    "month_reg[0].shape\n",
    "\n",
    "#add region indexes to saved array as 1-st column\n",
    "saved_array = np.hstack((np.where(mean_region > 5)[0].reshape(-1, 1), month_reg[0]))\n",
    "saved_array.shape"
   ]
  },
  {
   "cell_type": "code",
   "execution_count": 28,
   "metadata": {
    "collapsed": true
   },
   "outputs": [],
   "source": [
    "with open('H:/Yandex machine learning/finall course coursera/reg_bin_stat_2years.pkl', 'wb') as f:\n",
    "    pickle.dump(saved_array, f)"
   ]
  },
  {
   "cell_type": "code",
   "execution_count": null,
   "metadata": {
    "collapsed": true
   },
   "outputs": [],
   "source": []
  },
  {
   "cell_type": "markdown",
   "metadata": {
    "collapsed": true
   },
   "source": [
    "##### now do the same for may (validation set) and june (data to verify prediction quality) 2016. Leave only 102 regions that are in two yaer long training data (reg_bin_stat_2years.pkl)"
   ]
  },
  {
   "cell_type": "code",
   "execution_count": 7,
   "metadata": {
    "collapsed": true
   },
   "outputs": [],
   "source": [
    "verify_path = [\"H:/Yandex machine learning/finall course coursera/csv_yellow_cab_2016/reg_bin_stat/\", ]"
   ]
  },
  {
   "cell_type": "code",
   "execution_count": 4,
   "metadata": {
    "collapsed": true
   },
   "outputs": [],
   "source": [
    "month_reg_arr = np.array([[]]*2500)"
   ]
  },
  {
   "cell_type": "code",
   "execution_count": 8,
   "metadata": {},
   "outputs": [
    {
     "name": "stdout",
     "output_type": "stream",
     "text": [
      "reg_bin_stat_2016-05.pkl (2500, 744)\n",
      "reg_bin_stat_2016-06.pkl (2500, 720)\n"
     ]
    }
   ],
   "source": [
    "for path in verify_path:\n",
    "    for file in sorted_digit_files([f for f in os.listdir(path) if (os.path.isfile(os.path.join(path, f)) \n",
    "                                                                   and f != \"reg_bin_stat_2016-01.pkl\"\n",
    "                                                                   and f != \"reg_bin_stat_2016-02.pkl\"\n",
    "                                                                   and f != \"reg_bin_stat_2016-03.pkl\"\n",
    "                                                                   and f != \"reg_bin_stat_2016-04.pkl\")]):\n",
    "        #print(file)\n",
    "        with open(path + file, \"rb\") as f:\n",
    "            region_bined_stat = pickle.load(f)\n",
    "            print(file, region_bined_stat.shape)\n",
    "            month_reg_arr = np.append(month_reg_arr, region_bined_stat[:, :], axis=1)"
   ]
  },
  {
   "cell_type": "code",
   "execution_count": 9,
   "metadata": {},
   "outputs": [
    {
     "data": {
      "text/plain": [
       "(2500, 1464)"
      ]
     },
     "execution_count": 9,
     "metadata": {},
     "output_type": "execute_result"
    }
   ],
   "source": [
    "month_reg_arr.shape"
   ]
  },
  {
   "cell_type": "code",
   "execution_count": 14,
   "metadata": {
    "collapsed": true
   },
   "outputs": [],
   "source": [
    "regions = np.array([1074, 1075, 1076, 1124, 1125, 1126, 1127, 1128, 1129, 1130, 1131, 1171, 1172, 1173, 1174, 1175, 1176, 1177, 1178, \n",
    "           1179, 1180, 1181, 1182, 1183, 1220, 1221, 1222, 1223, 1224, 1226, 1227, 1228, 1229, 1230, 1231, 1232, 1233, 1234, \n",
    "           1271, 1272, 1273, 1277, 1278, 1279, 1280, 1281, 1282, 1283, 1284, 1285, 1286, 1325, 1326, 1330, 1331, 1332, 1333, \n",
    "           1334, 1335, 1336, 1337, 1338, 1375, 1376, 1377, 1379, 1381, 1382, 1383, 1384, 1385, 1386, 1387, 1388, 1389, 1425, \n",
    "           1430, 1431, 1433, 1434, 1435, 1436, 1437, 1438, 1441, 1479, 1481, 1482, 1529, 1531, 1532, 1579, 1629, 1683, 1732, \n",
    "           1733, 1782, 2067, 2068, 2117, 2118, 2167])"
   ]
  },
  {
   "cell_type": "code",
   "execution_count": 18,
   "metadata": {},
   "outputs": [
    {
     "name": "stdout",
     "output_type": "stream",
     "text": [
      "(102, 1464)\n",
      "(102, 1)\n",
      "(102, 1465)\n"
     ]
    }
   ],
   "source": [
    "#mean_region = np.mean(month_reg_arr, axis=1)\n",
    "#month_reg = month_reg_arr[np.where(mean_region > 5), :]\n",
    "\n",
    "''' select region that had avarage num of calles > 5 from may 2014 till april 2016  '''\n",
    "month_reg = month_reg_arr[regions, :]\n",
    "print(month_reg.shape)\n",
    "print(regions.reshape(-1, 1).shape)\n",
    "\n",
    "#add region indexes to saved array as 1-st column\n",
    "saved_array = np.hstack((regions.reshape(-1, 1), month_reg))\n",
    "print(saved_array.shape)"
   ]
  },
  {
   "cell_type": "code",
   "execution_count": 19,
   "metadata": {
    "collapsed": true
   },
   "outputs": [],
   "source": [
    "with open('H:/Yandex machine learning/finall course coursera/verif_bin_stat_5_6_2016.pkl', 'wb') as f:\n",
    "    pickle.dump(saved_array, f)"
   ]
  },
  {
   "cell_type": "code",
   "execution_count": null,
   "metadata": {
    "collapsed": true
   },
   "outputs": [],
   "source": []
  }
 ],
 "metadata": {
  "kernelspec": {
   "display_name": "Python 3",
   "language": "python",
   "name": "python3"
  },
  "language_info": {
   "codemirror_mode": {
    "name": "ipython",
    "version": 3
   },
   "file_extension": ".py",
   "mimetype": "text/x-python",
   "name": "python",
   "nbconvert_exporter": "python",
   "pygments_lexer": "ipython3",
   "version": "3.5.4"
  }
 },
 "nbformat": 4,
 "nbformat_minor": 2
}
